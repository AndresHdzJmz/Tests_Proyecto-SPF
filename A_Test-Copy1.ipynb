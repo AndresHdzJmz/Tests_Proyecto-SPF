{
 "cells": [
  {
   "cell_type": "markdown",
   "metadata": {},
   "source": [
    "<img style=\"float: left; margin: 30px 15px 15px 15px;\" src=\"https://pngimage.net/wp-content/uploads/2018/06/logo-iteso-png-5.png\" width=\"300\" height=\"500\" /> \n",
    "    \n",
    "    \n",
    "### <font color='navy'> Simulación de procesos financieros. \n",
    "\n",
    "**Nombres:** Rubén Hernández Guevara | Andrés Hernández Jiménez.\n",
    "\n",
    "**Fecha:** 09 de Marzo del 2021.\n",
    "\n",
    "**Expediente** : 717710 | 717895.\n",
    "**Profesor:** Oscar David Jaramillo Zuluaga.\n",
    "    \n",
    "**Link Github**: https://github.com/Rub27182n/Proyecto-SPF.git\n",
    "\n",
    "# Proyecto TEMA-2"
   ]
  },
  {
   "cell_type": "code",
   "execution_count": 1,
   "metadata": {},
   "outputs": [],
   "source": [
    "# <font color='midnightblue'>"
   ]
  },
  {
   "cell_type": "markdown",
   "metadata": {},
   "source": [
    "# <font color='midnightblue'> 1. Análisis y Simulación de Videos de Youtube\n",
    "\n",
    "> En este proyecto, examinaremos a detalle y simularemos las variables más escenciales de un video de YouTube: Likes, Dislikes, Comments y Views para obtener los estadísticos más probables de un hipotético video."
   ]
  },
  {
   "cell_type": "markdown",
   "metadata": {},
   "source": [
    "# <font color='midnightblue'> 2 . Objetivos"
   ]
  },
  {
   "cell_type": "markdown",
   "metadata": {},
   "source": [
    "> ###  <font color='midnightblue'> Generales\n",
    ">> Consideramos como objetivo principal, el generar un modelo/función que permita simular, a partir de parámetros o características clave de un video de YouTube, sus principales estádisticos.\n",
    "    \n",
    "> ###  <font color='midnightblue'> Específicos\n",
    ">> - Encontrar las categorías de video más populares y etiquetarlas.\n",
    ">> - Obtener la Función de Distribución de Probabilidad de cada estadístico para las categorías más populares.\n",
    ">> - Simular cantidad de Likes, Dislikes, Comments y Views para las categorías más populares.\n",
    "    \n",
    "\n"
   ]
  },
  {
   "cell_type": "markdown",
   "metadata": {},
   "source": [
    "# <font color='midnightblue'> 3.  Definición del Problema\n",
    "    \n",
    "> En este proyecto queremos plantear la idea de una compañía que opera con Data Science,  y que a través de una base de datos de videos de YouTube, le es posible obtener distribuciones de probabilidad y simular casos específicos de hipotéticos videos, a los cuales se pretende estimar su recibimiento (número de vistas, likes, dislikes y comentarios) en la plataforma. \n",
    "    \n",
    "> Todos los datos que se utilizarán son datos reales de videos en Youtube México y YouTube Estados Unidos. Con los 4 estadísticos previamente mencionados, se podrá obtener la información necesaria para evaluar las diferentes categorías de videos y su recibimiento en la plataforma a través de simulación Monte Carlo. Estos parámetros serán los nodos para trabajar específicamente y a través de estos se generarán datos que nos permiten cumplir con el objetivo central, examinar a detalle y simular las variables escenciales de un video de YouTube. "
   ]
  },
  {
   "cell_type": "markdown",
   "metadata": {},
   "source": [
    "# <font color='midnightblue'> 4. Nodos/Variables a Simular"
   ]
  },
  {
   "cell_type": "markdown",
   "metadata": {},
   "source": [
    "> Los nodos/variables que elegimos son:\n",
    "> - Número de Vistas\n",
    "> - Cantidad de Likes\n",
    "> - Cantidad de Dislikes\n",
    "> - Número de Comentarios\n",
    "> - Categoría de Videos\n",
    "\n",
    "> Estos nodos fueron elegidos porque generamos la hipótesis de que intrínsecamente están correlacioandos y además se pueden simular ante el supuesto de un video ingresado en la red y su desempeño en la plataforma. La categoría de video es un filtro fundamental para poder separar los resultados de acuerdo con lo que la gente quiere ver basándonos en su popularidad actual. La ratio entre likes y dislikes nos darán una muy buena idea de cómo se desempeña el video una vez en la plataforma. El número de vistas y sus respectivos comentarios afirmarán si este video está volviéndose popular."
   ]
  },
  {
   "cell_type": "markdown",
   "metadata": {},
   "source": []
  },
  {
   "cell_type": "markdown",
   "metadata": {},
   "source": []
  },
  {
   "cell_type": "markdown",
   "metadata": {},
   "source": []
  },
  {
   "cell_type": "markdown",
   "metadata": {},
   "source": []
  },
  {
   "cell_type": "markdown",
   "metadata": {},
   "source": []
  },
  {
   "cell_type": "markdown",
   "metadata": {},
   "source": []
  },
  {
   "cell_type": "code",
   "execution_count": 95,
   "metadata": {},
   "outputs": [],
   "source": [
    "import pandas as pd\n",
    "import numpy as np\n",
    "from scipy.stats import beta\n",
    "from scipy import optimize\n",
    "from time import time\n",
    "from collections import Counter\n",
    "import scipy.stats as st\n",
    "from fitter import Fitter\n",
    "from CDIN import CDIN as eda\n",
    "import statsmodels.api as sm \n",
    "import seaborn as sns\n",
    "from sklearn.neighbors import KernelDensity\n",
    "from scipy.stats import gaussian_kde\n",
    "from statsmodels.nonparametric.kde import KDEUnivariate\n",
    "from statsmodels.nonparametric.kernel_density import KDEMultivariate\n",
    "from sklearn.model_selection import GridSearchCV\n",
    "import matplotlib.pyplot as plt\n",
    "%matplotlib inline\n",
    "import warnings\n",
    "warnings.filterwarnings(\"ignore\") \n",
    "pd.options.mode.chained_assignment = None  # default='warn'"
   ]
  },
  {
   "cell_type": "code",
   "execution_count": 96,
   "metadata": {},
   "outputs": [
    {
     "data": {
      "text/plain": [
       "(40451, 16)"
      ]
     },
     "execution_count": 96,
     "metadata": {},
     "output_type": "execute_result"
    }
   ],
   "source": [
    "mx = pd.read_csv('MXvideos.csv')\n",
    "mx.shape"
   ]
  },
  {
   "cell_type": "code",
   "execution_count": 97,
   "metadata": {},
   "outputs": [],
   "source": [
    "# ----------------------- Eliminar Columnas -----------------------\n",
    "mx.drop(['trending_date', 'title', 'channel_title', 'publish_time', 'tags', 'thumbnail_link', 'comments_disabled', 'ratings_disabled', 'video_error_or_removed', 'description'], inplace=True, axis=1)"
   ]
  },
  {
   "cell_type": "code",
   "execution_count": 98,
   "metadata": {},
   "outputs": [
    {
     "data": {
      "text/html": [
       "<div>\n",
       "<style scoped>\n",
       "    .dataframe tbody tr th:only-of-type {\n",
       "        vertical-align: middle;\n",
       "    }\n",
       "\n",
       "    .dataframe tbody tr th {\n",
       "        vertical-align: top;\n",
       "    }\n",
       "\n",
       "    .dataframe thead th {\n",
       "        text-align: right;\n",
       "    }\n",
       "</style>\n",
       "<table border=\"1\" class=\"dataframe\">\n",
       "  <thead>\n",
       "    <tr style=\"text-align: right;\">\n",
       "      <th></th>\n",
       "      <th>Nombre</th>\n",
       "      <th>data_types</th>\n",
       "      <th>missing_values</th>\n",
       "      <th>present_values</th>\n",
       "      <th>unique_values</th>\n",
       "      <th>min</th>\n",
       "      <th>max</th>\n",
       "    </tr>\n",
       "  </thead>\n",
       "  <tbody>\n",
       "    <tr>\n",
       "      <td>video_id</td>\n",
       "      <td>video_id</td>\n",
       "      <td>object</td>\n",
       "      <td>0</td>\n",
       "      <td>40451</td>\n",
       "      <td>33513</td>\n",
       "      <td>#NAME?</td>\n",
       "      <td>zzxLG6R5cHI</td>\n",
       "    </tr>\n",
       "    <tr>\n",
       "      <td>category_id</td>\n",
       "      <td>category_id</td>\n",
       "      <td>int64</td>\n",
       "      <td>0</td>\n",
       "      <td>40451</td>\n",
       "      <td>16</td>\n",
       "      <td>1</td>\n",
       "      <td>43</td>\n",
       "    </tr>\n",
       "    <tr>\n",
       "      <td>views</td>\n",
       "      <td>views</td>\n",
       "      <td>int64</td>\n",
       "      <td>0</td>\n",
       "      <td>40451</td>\n",
       "      <td>35915</td>\n",
       "      <td>157</td>\n",
       "      <td>100912384</td>\n",
       "    </tr>\n",
       "    <tr>\n",
       "      <td>likes</td>\n",
       "      <td>likes</td>\n",
       "      <td>int64</td>\n",
       "      <td>0</td>\n",
       "      <td>40451</td>\n",
       "      <td>14564</td>\n",
       "      <td>0</td>\n",
       "      <td>4470923</td>\n",
       "    </tr>\n",
       "    <tr>\n",
       "      <td>dislikes</td>\n",
       "      <td>dislikes</td>\n",
       "      <td>int64</td>\n",
       "      <td>0</td>\n",
       "      <td>40451</td>\n",
       "      <td>3693</td>\n",
       "      <td>0</td>\n",
       "      <td>1353667</td>\n",
       "    </tr>\n",
       "    <tr>\n",
       "      <td>comment_count</td>\n",
       "      <td>comment_count</td>\n",
       "      <td>int64</td>\n",
       "      <td>0</td>\n",
       "      <td>40451</td>\n",
       "      <td>6310</td>\n",
       "      <td>0</td>\n",
       "      <td>905925</td>\n",
       "    </tr>\n",
       "  </tbody>\n",
       "</table>\n",
       "</div>"
      ],
      "text/plain": [
       "                      Nombre data_types  missing_values  present_values  \\\n",
       "video_id            video_id     object               0           40451   \n",
       "category_id      category_id      int64               0           40451   \n",
       "views                  views      int64               0           40451   \n",
       "likes                  likes      int64               0           40451   \n",
       "dislikes            dislikes      int64               0           40451   \n",
       "comment_count  comment_count      int64               0           40451   \n",
       "\n",
       "              unique_values     min          max  \n",
       "video_id              33513  #NAME?  zzxLG6R5cHI  \n",
       "category_id              16       1           43  \n",
       "views                 35915     157    100912384  \n",
       "likes                 14564       0      4470923  \n",
       "dislikes               3693       0      1353667  \n",
       "comment_count          6310       0       905925  "
      ]
     },
     "execution_count": 98,
     "metadata": {},
     "output_type": "execute_result"
    }
   ],
   "source": [
    "# ----------------------- Aplicar EDA (Exporatory Data Analysis) -----------------------\n",
    "eda.dqr(mx)"
   ]
  },
  {
   "cell_type": "code",
   "execution_count": 99,
   "metadata": {},
   "outputs": [
    {
     "name": "stdout",
     "output_type": "stream",
     "text": [
      "          video_id  category_id    views   likes  dislikes  comment_count\n",
      "70          #NAME?           22    57070    6158       118            518\n",
      "86          #NAME?           22     9409      24         2              3\n",
      "219    _OXDcGPVAa4           26  1746221   93269      1792          10285\n",
      "233    hcY52MFWMDM           25   263352     846       393            452\n",
      "258         #NAME?           17   478507    1508       133            523\n",
      "...            ...          ...      ...     ...       ...            ...\n",
      "40419       #NAME?           24    13385     166         8             18\n",
      "40420  WGOi_1XBclQ           10  4233617  436609     11240          56709\n",
      "40426  TXTIMp7En-Q           25    78139    3118      1226           1896\n",
      "40429  L6JFnZ5WabM           24   141734    5012       207           1294\n",
      "40447  i7r_kMbyngk           25   121674    3558        58            491\n",
      "\n",
      "[6938 rows x 6 columns]\n"
     ]
    }
   ],
   "source": [
    "# ----------------------- Mostrar Duplicados de 'video_id' -----------------------\n",
    "print(mx[mx.duplicated(subset = ['video_id'])]) #mx[~] para mostrar opuesto"
   ]
  },
  {
   "cell_type": "code",
   "execution_count": 100,
   "metadata": {},
   "outputs": [],
   "source": [
    "# ----------------------- Crear df sin 'video_id' repetidos -----------------------\n",
    "df = mx[~mx.duplicated(subset = ['video_id'])]"
   ]
  },
  {
   "cell_type": "code",
   "execution_count": 101,
   "metadata": {},
   "outputs": [
    {
     "data": {
      "text/plain": [
       "(33513,)"
      ]
     },
     "execution_count": 101,
     "metadata": {},
     "output_type": "execute_result"
    }
   ],
   "source": [
    "# ----------------------- Comprobar -----------------------\n",
    "(df['video_id'].unique()).shape"
   ]
  },
  {
   "cell_type": "code",
   "execution_count": 102,
   "metadata": {},
   "outputs": [],
   "source": [
    "# ----------------------- Eliminar Columnas con Valores = 0 -----------------------\n",
    "index_names = df[(df['likes'] == 0) | (df['dislikes'] == 0 ) | (df['comment_count'] == 0 )].index"
   ]
  },
  {
   "cell_type": "code",
   "execution_count": 103,
   "metadata": {},
   "outputs": [
    {
     "data": {
      "text/plain": [
       "Int64Index([    7,    32,    88,    89,   120,   139,   146,   157,   184,\n",
       "              188,\n",
       "            ...\n",
       "            40053, 40075, 40131, 40136, 40160, 40193, 40361, 40399, 40428,\n",
       "            40433],\n",
       "           dtype='int64', length=1548)"
      ]
     },
     "execution_count": 103,
     "metadata": {},
     "output_type": "execute_result"
    }
   ],
   "source": [
    "index_names"
   ]
  },
  {
   "cell_type": "code",
   "execution_count": 104,
   "metadata": {},
   "outputs": [
    {
     "data": {
      "text/plain": [
       "Counter({False: 32621, True: 892})"
      ]
     },
     "execution_count": 104,
     "metadata": {},
     "output_type": "execute_result"
    }
   ],
   "source": [
    "Counter(df['dislikes'] == 0)"
   ]
  },
  {
   "cell_type": "code",
   "execution_count": 105,
   "metadata": {},
   "outputs": [
    {
     "data": {
      "text/plain": [
       "(33513, 6)"
      ]
     },
     "execution_count": 105,
     "metadata": {},
     "output_type": "execute_result"
    }
   ],
   "source": [
    "# ----------------------- Tamaño Final del Dataset -----------------------\n",
    "df.shape"
   ]
  },
  {
   "cell_type": "markdown",
   "metadata": {},
   "source": [
    "## 1"
   ]
  },
  {
   "cell_type": "code",
   "execution_count": 111,
   "metadata": {},
   "outputs": [],
   "source": [
    "#data = pd.read_csv('MXvideos.csv')\n",
    "df['views']=np.log(df['views'])\n",
    "df['views']=datax"
   ]
  },
  {
   "cell_type": "code",
   "execution_count": 112,
   "metadata": {},
   "outputs": [
    {
     "data": {
      "image/png": "[encoded data removed]",
      "text/plain": [
       "<Figure size 432x288 with 1 Axes>"
      ]
     },
     "metadata": {
      "needs_background": "light"
     },
     "output_type": "display_data"
    }
   ],
   "source": [
    "plt.hist(datax,30,density=True);"
   ]
  },
  {
   "cell_type": "code",
   "execution_count": 113,
   "metadata": {},
   "outputs": [
    {
     "data": {
      "text/plain": [
       "<matplotlib.axes._subplots.AxesSubplot at 0x21ed17f3e48>"
      ]
     },
     "execution_count": 113,
     "metadata": {},
     "output_type": "execute_result"
    },
    {
     "data": {
      "image/png": "[encoded data removed]",
      "text/plain": [
       "<Figure size 576x576 with 2 Axes>"
      ]
     },
     "metadata": {
      "needs_background": "light"
     },
     "output_type": "display_data"
    }
   ],
   "source": [
    "fig,(ax1,ax2) = plt.subplots(2,1,sharex= True,figsize=(8,8))\n",
    "sns.histplot(datax, ax=ax2, bins=30)\n",
    "sns.boxplot(x=datax, ax=ax1, saturation=.5, color='r')"
   ]
  },
  {
   "cell_type": "markdown",
   "metadata": {},
   "source": [
    "## Fin 1"
   ]
  },
  {
   "cell_type": "markdown",
   "metadata": {},
   "source": [
    "## 6"
   ]
  },
  {
   "cell_type": "markdown",
   "metadata": {},
   "source": [
    "## Utilizando scikit-learn"
   ]
  },
  {
   "cell_type": "code",
   "execution_count": 114,
   "metadata": {},
   "outputs": [],
   "source": [
    "def kde_sklearn(x, x_grid, bandwidth=0.2, **kwargs):\n",
    "    \"\"\"Kernel Density Estimation with Scikit-learn\"\"\"\n",
    "    kde_skl = KernelDensity(bandwidth=bandwidth, **kwargs)\n",
    "    kde_skl.fit(x[:, np.newaxis])\n",
    "    #score_samples() returns the log-likelihood of the samples\n",
    "    log_pdf = kde_skl.score_samples(x_grid[:, np.newaxis])\n",
    "    return np.exp(log_pdf)"
   ]
  },
  {
   "cell_type": "code",
   "execution_count": 115,
   "metadata": {},
   "outputs": [
    {
     "name": "stdout",
     "output_type": "stream",
     "text": [
      "{'bandwidth': 0.2222222222222222}\n"
     ]
    }
   ],
   "source": [
    "x_grid=np.linspace(0,20,1000)\n",
    "nodo1=np.random.choice(datax,1000)\n",
    "x=nodo1\n",
    "grid = GridSearchCV(KernelDensity(),\n",
    "                    {'bandwidth': np.linspace(0, 2.0, 10)},\n",
    "                    cv=20) # 20-fold cross-validation\n",
    "grid.fit(x[:, None])\n",
    "print(grid.best_params_)"
   ]
  },
  {
   "cell_type": "code",
   "execution_count": 116,
   "metadata": {},
   "outputs": [
    {
     "data": {
      "text/plain": [
       "Text(0.5, 1.0, 'KDE using scikit-learn')"
      ]
     },
     "execution_count": 116,
     "metadata": {},
     "output_type": "execute_result"
    },
    {
     "data": {
      "image/png": "[encoded data removed]",
      "text/plain": [
       "<Figure size 432x288 with 1 Axes>"
      ]
     },
     "metadata": {
      "needs_background": "light"
     },
     "output_type": "display_data"
    }
   ],
   "source": [
    "kde = grid.best_estimator_\n",
    "pdf = np.exp(kde.score_samples(x_grid[:, None]))\n",
    "\n",
    "fig, ax = plt.subplots()\n",
    "ax.plot(x_grid, pdf, linewidth=3, alpha=0.5, label='bw=%.2f' % kde.bandwidth)\n",
    "ax.hist(x, 30, fc='gray', histtype='stepfilled', alpha=0.3, density=True)\n",
    "ax.legend(loc='upper left')\n",
    "ax.set_xlim(0, 20);\n",
    "ax.set_title('KDE using scikit-learn')"
   ]
  },
  {
   "cell_type": "code",
   "execution_count": 117,
   "metadata": {},
   "outputs": [
    {
     "data": {
      "image/png": "[encoded data removed]",
      "text/plain": [
       "<Figure size 432x288 with 1 Axes>"
      ]
     },
     "metadata": {
      "needs_background": "light"
     },
     "output_type": "display_data"
    }
   ],
   "source": [
    "kde_multivariate=KDEMultivariate(data=x ,var_type='c', bw='cv_ml')\n",
    "f_multi_kde= lambda x: kde_multivariate.pdf(x)\n",
    "plt.plot(x_grid, f_multi_kde(x_grid))\n",
    "plt.hist(x,bins=20, density=True)\n",
    "plt.title('KDE multivariate')\n",
    "plt.show()"
   ]
  },
  {
   "cell_type": "code",
   "execution_count": 118,
   "metadata": {},
   "outputs": [
    {
     "data": {
      "text/plain": [
       "<function __main__.<lambda>(x)>"
      ]
     },
     "execution_count": 118,
     "metadata": {},
     "output_type": "execute_result"
    }
   ],
   "source": [
    "f_multi_kde"
   ]
  },
  {
   "cell_type": "code",
   "execution_count": 119,
   "metadata": {},
   "outputs": [
    {
     "data": {
      "image/png": "[encoded data removed]",
      "text/plain": [
       "<Figure size 432x288 with 1 Axes>"
      ]
     },
     "metadata": {
      "needs_background": "light"
     },
     "output_type": "display_data"
    }
   ],
   "source": [
    "kde_sklearn= KernelDensity(kernel='gaussian', bandwidth=0.19).fit(x[:, np.newaxis])\n",
    "f_skle= lambda x: np.exp(kde_sklearn.score_samples(x[:, None]))\n",
    "\n",
    "plt.plot(x_grid, f_skle(x_grid))\n",
    "plt.hist(x,bins=20, density=True)\n",
    "plt.title('KDE sklearn')\n",
    "plt.show()"
   ]
  },
  {
   "cell_type": "code",
   "execution_count": 63,
   "metadata": {},
   "outputs": [
    {
     "data": {
      "text/plain": [
       "<function __main__.<lambda>(x)>"
      ]
     },
     "execution_count": 63,
     "metadata": {},
     "output_type": "execute_result"
    }
   ],
   "source": [
    "f_skle"
   ]
  },
  {
   "cell_type": "markdown",
   "metadata": {},
   "source": [
    "## Fin 6"
   ]
  },
  {
   "cell_type": "markdown",
   "metadata": {},
   "source": [
    "## Utilizando Scipy"
   ]
  },
  {
   "cell_type": "code",
   "execution_count": 64,
   "metadata": {},
   "outputs": [],
   "source": [
    "def kde_scipy(x, x_grid, bandwidth=0.2, **kwargs):\n",
    "    \"\"\"Kernel Density Estimation with Scipy\"\"\"\n",
    "    # Note that scipy weights its bandwidth by the covariance of the\n",
    "    # input data.  To make the results comparable to the other methods,\n",
    "    # we divide the bandwidth by the sample standard deviation here.\n",
    "    kde = gaussian_kde(x, bw_method=bandwidth / x.std(ddof=1), **kwargs)\n",
    "    return kde.evaluate(x_grid)"
   ]
  },
  {
   "cell_type": "code",
   "execution_count": 65,
   "metadata": {},
   "outputs": [
    {
     "name": "stdout",
     "output_type": "stream",
     "text": [
      "{'bandwidth': 0.4444444444444444}\n"
     ]
    }
   ],
   "source": [
    "x_grid=np.linspace(0,20,1000)\n",
    "nodo1=np.random.choice(datax,1000)\n",
    "x=nodo1\n",
    "grid = GridSearchCV(KernelDensity(),\n",
    "                    {'bandwidth': np.linspace(0, 2.0, 10)},\n",
    "                    cv=20) # 20-fold cross-validation\n",
    "grid.fit(x[:, None])\n",
    "print(grid.best_params_)"
   ]
  },
  {
   "cell_type": "code",
   "execution_count": 66,
   "metadata": {},
   "outputs": [
    {
     "data": {
      "text/plain": [
       "Text(0.5, 1.0, 'KDE using Scipy')"
      ]
     },
     "execution_count": 66,
     "metadata": {},
     "output_type": "execute_result"
    },
    {
     "data": {
      "image/png": "[encoded data removed]",
      "text/plain": [
       "<Figure size 432x288 with 1 Axes>"
      ]
     },
     "metadata": {
      "needs_background": "light"
     },
     "output_type": "display_data"
    }
   ],
   "source": [
    "kde = grid.best_estimator_\n",
    "pdf = np.exp(kde.score_samples(x_grid[:, None]))\n",
    "\n",
    "fig, ax = plt.subplots()\n",
    "ax.plot(x_grid, pdf, linewidth=3, alpha=0.5, label='bw=%.2f' % kde.bandwidth)\n",
    "ax.hist(x, 30, fc='gray', histtype='stepfilled', alpha=0.3, density=True)\n",
    "ax.legend(loc='upper left')\n",
    "ax.set_xlim(0, 20);\n",
    "ax.set_title('KDE using Scipy')"
   ]
  },
  {
   "cell_type": "markdown",
   "metadata": {},
   "source": [
    "## Utilizando Statsmodels Univariate"
   ]
  },
  {
   "cell_type": "code",
   "execution_count": 67,
   "metadata": {},
   "outputs": [],
   "source": [
    "def kde_statsmodels_u(x, x_grid, bandwidth=0.2, **kwargs):\n",
    "    \"\"\"Univariate Kernel Density Estimation with Statsmodels\"\"\"\n",
    "    kde = KDEUnivariate(x)\n",
    "    kde.fit(bw=bandwidth, **kwargs)\n",
    "    return kde.evaluate(x_grid)"
   ]
  },
  {
   "cell_type": "code",
   "execution_count": 68,
   "metadata": {},
   "outputs": [
    {
     "name": "stdout",
     "output_type": "stream",
     "text": [
      "{'bandwidth': 0.4444444444444444}\n"
     ]
    }
   ],
   "source": [
    "x_grid=np.linspace(0,20,1000)\n",
    "nodo1=np.random.choice(datax,1000)\n",
    "x=nodo1\n",
    "grid = GridSearchCV(KernelDensity(),\n",
    "                    {'bandwidth': np.linspace(0, 2.0, 10)},\n",
    "                    cv=20) # 20-fold cross-validation\n",
    "grid.fit(x[:, None])\n",
    "print(grid.best_params_)"
   ]
  },
  {
   "cell_type": "code",
   "execution_count": 69,
   "metadata": {},
   "outputs": [
    {
     "data": {
      "text/plain": [
       "Text(0.5, 1.0, 'KDE using Univariate Statmodel')"
      ]
     },
     "execution_count": 69,
     "metadata": {},
     "output_type": "execute_result"
    },
    {
     "data": {
      "image/png": "[encoded data removed]",
      "text/plain": [
       "<Figure size 432x288 with 1 Axes>"
      ]
     },
     "metadata": {
      "needs_background": "light"
     },
     "output_type": "display_data"
    }
   ],
   "source": [
    "kde = grid.best_estimator_\n",
    "pdf = np.exp(kde.score_samples(x_grid[:, None]))\n",
    "\n",
    "fig, ax = plt.subplots()\n",
    "ax.plot(x_grid, pdf, linewidth=3, alpha=0.5, label='bw=%.2f' % kde.bandwidth)\n",
    "ax.hist(x, 30, fc='gray', histtype='stepfilled', alpha=0.3, density=True)\n",
    "ax.legend(loc='upper left')\n",
    "ax.set_xlim(0, 20);\n",
    "ax.set_title('KDE using Univariate Statmodel')"
   ]
  },
  {
   "cell_type": "markdown",
   "metadata": {},
   "source": [
    "## Utilizando Statsmodels Multivariate"
   ]
  },
  {
   "cell_type": "code",
   "execution_count": 70,
   "metadata": {},
   "outputs": [],
   "source": [
    "def kde_statsmodels_m(x, x_grid, bandwidth=0.2, **kwargs):\n",
    "    \"\"\"Multivariate Kernel Density Estimation with Statsmodels\"\"\"\n",
    "    kde = KDEMultivariate(x, \n",
    "                          bw='cv_ml',  #bandwidth * np.ones_like(x),\n",
    "                          var_type='c', **kwargs)\n",
    "    return kde.pdf(x_grid)"
   ]
  },
  {
   "cell_type": "code",
   "execution_count": 71,
   "metadata": {},
   "outputs": [
    {
     "name": "stdout",
     "output_type": "stream",
     "text": [
      "{'bandwidth': 0.4444444444444444}\n"
     ]
    }
   ],
   "source": [
    "x_grid=np.linspace(0,20,1000)\n",
    "nodo1=np.random.choice(datax,1000)\n",
    "x=nodo1\n",
    "grid = GridSearchCV(KernelDensity(),\n",
    "                    {'bandwidth': np.linspace(0, 2.0, 10)},\n",
    "                    cv=20) # 20-fold cross-validation\n",
    "grid.fit(x[:, None])\n",
    "print(grid.best_params_)"
   ]
  },
  {
   "cell_type": "code",
   "execution_count": 72,
   "metadata": {},
   "outputs": [
    {
     "data": {
      "text/plain": [
       "Text(0.5, 1.0, 'KDE using Multivariate Statmodel')"
      ]
     },
     "execution_count": 72,
     "metadata": {},
     "output_type": "execute_result"
    },
    {
     "data": {
      "image/png": "[encoded data removed]",
      "text/plain": [
       "<Figure size 432x288 with 1 Axes>"
      ]
     },
     "metadata": {
      "needs_background": "light"
     },
     "output_type": "display_data"
    }
   ],
   "source": [
    "kde = grid.best_estimator_\n",
    "pdf = np.exp(kde.score_samples(x_grid[:, None]))\n",
    "\n",
    "fig, ax = plt.subplots()\n",
    "ax.plot(x_grid, pdf, linewidth=3, alpha=0.5, label='bw=%.2f' % kde.bandwidth)\n",
    "ax.hist(x, 30, fc='gray', histtype='stepfilled', alpha=0.3, density=True)\n",
    "ax.legend(loc='upper left')\n",
    "ax.set_xlim(0, 20);\n",
    "ax.set_title('KDE using Multivariate Statmodel')"
   ]
  },
  {
   "cell_type": "markdown",
   "metadata": {},
   "source": [
    "## 2"
   ]
  },
  {
   "cell_type": "markdown",
   "metadata": {},
   "source": [
    "## Ajuste a una distribución conocida"
   ]
  },
  {
   "cell_type": "code",
   "execution_count": 73,
   "metadata": {},
   "outputs": [],
   "source": [
    "# -------------------- Distribuciones Seleccionadas Específicamente Para Este Nodo --------------------\n",
    "dist_list = ['beta', 'burr12', 'chi', 'chi2', 'exponweib', 'gengamma', 'logistic', 'nakagami', 'nct', 'norm', 'pearson3']"
   ]
  },
  {
   "cell_type": "code",
   "execution_count": 74,
   "metadata": {},
   "outputs": [],
   "source": [
    "# -------------------- Función Para Obtener Histograma junto con Distribuciones y su Respectivo Error --------------------\n",
    "def distribuciones(dist_list, datax, bins):\n",
    "    plt.figure(figsize = (16, 8))\n",
    "    global err, x, y, J\n",
    "    J=bins\n",
    "    \n",
    "    err = pd.DataFrame(index = dist_list, columns = ['error'])\n",
    "    \n",
    "    y, x,  _ = plt.hist(datax, bins = bins, density = True)\n",
    "    x = x[1:]\n",
    "    \n",
    "    def ajuste_dist(dist):\n",
    "        params = getattr(st, dist).fit(datax)\n",
    "        y_hat = getattr(st, dist).pdf(x, *params)\n",
    "        err.loc[dist] = ((y - y_hat)**2).mean()\n",
    "        plt.plot(x, y_hat, label = dist);\n",
    "    \n",
    "    [ajuste_dist(dist) for dist in dist_list]\n",
    "    \n",
    "    plt.legend()\n",
    "    plt.show()"
   ]
  },
  {
   "cell_type": "code",
   "execution_count": 75,
   "metadata": {},
   "outputs": [
    {
     "data": {
      "image/png": "[encoded data removed]",
      "text/plain": [
       "<Figure size 1152x576 with 1 Axes>"
      ]
     },
     "metadata": {
      "needs_background": "light"
     },
     "output_type": "display_data"
    }
   ],
   "source": [
    "distribuciones(dist_list, datax,30)"
   ]
  },
  {
   "cell_type": "code",
   "execution_count": 76,
   "metadata": {},
   "outputs": [
    {
     "data": {
      "text/html": [
       "<div>\n",
       "<style scoped>\n",
       "    .dataframe tbody tr th:only-of-type {\n",
       "        vertical-align: middle;\n",
       "    }\n",
       "\n",
       "    .dataframe tbody tr th {\n",
       "        vertical-align: top;\n",
       "    }\n",
       "\n",
       "    .dataframe thead th {\n",
       "        text-align: right;\n",
       "    }\n",
       "</style>\n",
       "<table border=\"1\" class=\"dataframe\">\n",
       "  <thead>\n",
       "    <tr style=\"text-align: right;\">\n",
       "      <th></th>\n",
       "      <th>error</th>\n",
       "    </tr>\n",
       "  </thead>\n",
       "  <tbody>\n",
       "    <tr>\n",
       "      <td>chi</td>\n",
       "      <td>0.00012466</td>\n",
       "    </tr>\n",
       "    <tr>\n",
       "      <td>nakagami</td>\n",
       "      <td>0.00012466</td>\n",
       "    </tr>\n",
       "    <tr>\n",
       "      <td>gengamma</td>\n",
       "      <td>0.00014333</td>\n",
       "    </tr>\n",
       "    <tr>\n",
       "      <td>norm</td>\n",
       "      <td>0.000143415</td>\n",
       "    </tr>\n",
       "    <tr>\n",
       "      <td>beta</td>\n",
       "      <td>0.000154887</td>\n",
       "    </tr>\n",
       "  </tbody>\n",
       "</table>\n",
       "</div>"
      ],
      "text/plain": [
       "                error\n",
       "chi        0.00012466\n",
       "nakagami   0.00012466\n",
       "gengamma   0.00014333\n",
       "norm      0.000143415\n",
       "beta      0.000154887"
      ]
     },
     "execution_count": 76,
     "metadata": {},
     "output_type": "execute_result"
    }
   ],
   "source": [
    "# -------------------- Top 5 Distribuciones Para 'Views' --------------------\n",
    "err.sort_values(by = 'error').head(5)"
   ]
  },
  {
   "cell_type": "code",
   "execution_count": 77,
   "metadata": {},
   "outputs": [],
   "source": [
    "best = err.sort_values(by = 'error').head(5).index.values\n"
   ]
  },
  {
   "cell_type": "markdown",
   "metadata": {},
   "source": [
    "## Fin 2"
   ]
  },
  {
   "cell_type": "markdown",
   "metadata": {},
   "source": [
    "## 4"
   ]
  },
  {
   "cell_type": "markdown",
   "metadata": {},
   "source": [
    "## Prueba Q-Q para la distribución Beta, Nodo 1"
   ]
  },
  {
   "cell_type": "code",
   "execution_count": 78,
   "metadata": {},
   "outputs": [
    {
     "data": {
      "image/png": "[encoded data removed]",
      "text/plain": [
       "<Figure size 864x576 with 1 Axes>"
      ]
     },
     "metadata": {
      "needs_background": "light"
     },
     "output_type": "display_data"
    }
   ],
   "source": [
    "dist = best\n",
    "fig, ax = plt.subplots(1,1, figsize = [12, 8])\n",
    "g1 = sm.qqplot(datax, dist = getattr(st, best[0]), line = 'q', fit = True, ax = ax)"
   ]
  },
  {
   "cell_type": "markdown",
   "metadata": {},
   "source": [
    "> Se puede apreciar una incongruencia en la prueba Q-Q en la parte derecha de la cola."
   ]
  },
  {
   "cell_type": "markdown",
   "metadata": {},
   "source": [
    "## Pruebas de Bondad y Ajuste"
   ]
  },
  {
   "cell_type": "markdown",
   "metadata": {},
   "source": [
    "## <font color='midnightblue'> Prueba de la Chi Cuadrada $\\chi^2$ Para la Distribución Beta"
   ]
  },
  {
   "cell_type": "markdown",
   "metadata": {},
   "source": [
    "#### <font color='midnightblue'> Hipótesis Nula $H_0$:"
   ]
  },
  {
   "cell_type": "markdown",
   "metadata": {},
   "source": [
    "<font color='midnightblue'> La distribución es Beta"
   ]
  },
  {
   "cell_type": "markdown",
   "metadata": {},
   "source": [
    "#### <font color='midnightblue'> Hipótesis Alterna $H_a$:"
   ]
  },
  {
   "cell_type": "markdown",
   "metadata": {},
   "source": [
    "<font color='midnightblue'> La distribución no es Beta"
   ]
  },
  {
   "cell_type": "code",
   "execution_count": 79,
   "metadata": {},
   "outputs": [
    {
     "name": "stdout",
     "output_type": "stream",
     "text": [
      "media mu =10.733785, desviación estándar muestral =1.607015\n"
     ]
    }
   ],
   "source": [
    "# Media y desviación estándar muestral\n",
    "mu = np.mean(datax)\n",
    "sigma = np.std(datax)\n",
    "print('media mu =%f, desviación estándar muestral =%f'%(mu,sigma))"
   ]
  },
  {
   "cell_type": "code",
   "execution_count": 81,
   "metadata": {},
   "outputs": [
    {
     "data": {
      "text/plain": [
       "(14.544179380960998, 80.16906826946592, 4.030602392354277, 43.649807688368185)"
      ]
     },
     "execution_count": 81,
     "metadata": {},
     "output_type": "execute_result"
    }
   ],
   "source": [
    "param = getattr(st,'beta').fit(datax)\n",
    "param"
   ]
  },
  {
   "cell_type": "code",
   "execution_count": 82,
   "metadata": {},
   "outputs": [
    {
     "name": "stdout",
     "output_type": "stream",
     "text": [
      "Valor de chi cuadrado teorico  =  21.29634148056783\n",
      "Valor de chi cuadrado librería =  Power_divergenceResult(statistic=21.29634148056783, pvalue=0.8481266986236682)\n",
      "Estadístico de chi_cuadrado =  35.563171271923466\n",
      "Media muestral =  10.73378479574969 \n",
      "Desviación estándar muestral =  1.6070152003328422\n",
      "Media real: 10.733785 \n",
      "Desviación real muestral: 1.607039\n"
     ]
    }
   ],
   "source": [
    "pi = st.beta.pdf(x, *param)\n",
    "\n",
    "# Cálculo de la esperanza usando la expresión teórica\n",
    "Ei = x*pi\n",
    "#J= 30\n",
    "# Cálculo teórico de la chi cuadrada\n",
    "x2 = np.sum(list(map(lambda Ei, obs_i:(obs_i - Ei)**2 / Ei, Ei, y)))\n",
    "print('Valor de chi cuadrado teorico  = ', x2)\n",
    "\n",
    "# Cálculo usando la librería estadística de la chi cuadrada\n",
    "Xs = st.chisquare(y, Ei)\n",
    "print('Valor de chi cuadrado librería = ', Xs)\n",
    "\n",
    "# Cálculo de Grados de libertad del estadístico\n",
    "p = 3 # Parámetros estimados con los datos\n",
    "m = J-p-1 # grados de libertad\n",
    "\n",
    "Chi_est = st.chi2.ppf(q=0.90, df=m)\n",
    "print('Estadístico de chi_cuadrado = ', Chi_est)\n",
    "print('Media muestral = ', mu, '\\nDesviación estándar muestral = ', sigma)\n",
    "print('Media real: %f \\nDesviación real muestral: %f'%(datax.mean(), datax.std()))"
   ]
  },
  {
   "cell_type": "markdown",
   "metadata": {},
   "source": [
    "#### <font color='midnightblue'> Conclusión Método Chi Cuadrada $\\chi^2$:\n",
    "> <font color='midnightblue'> Debido a ue el p-value es lo suficientemente grande este no se rechaza. Por lo tanto se acepta la $H_0$"
   ]
  },
  {
   "cell_type": "markdown",
   "metadata": {},
   "source": [
    "## Fin 4"
   ]
  },
  {
   "cell_type": "markdown",
   "metadata": {},
   "source": [
    "## 3"
   ]
  },
  {
   "cell_type": "markdown",
   "metadata": {},
   "source": [
    "## Fitter"
   ]
  },
  {
   "cell_type": "code",
   "execution_count": 83,
   "metadata": {},
   "outputs": [],
   "source": [
    "from fitter import Fitter as ft\n",
    "def fitter(data: 'datos',\n",
    "           dist: 'distribuciones',\n",
    "           t: 'interrupción', \n",
    "           b: 'bins'):\n",
    "    '''\n",
    "    función para método fitter\n",
    "    ----------\n",
    "    data: datos a ajustar\n",
    "    dist: string o array de strings de distribuciones\n",
    "    t: tiempo hasta la interrupción de la prueba para la distribución en curso\n",
    "    b: número de bins\n",
    "    '''    \n",
    "    global f\n",
    "    f = ft(data, distributions = dist, timeout = t, bins = b)\n",
    "    f.fit()"
   ]
  },
  {
   "cell_type": "code",
   "execution_count": 84,
   "metadata": {},
   "outputs": [
    {
     "data": {
      "text/html": [
       "\n",
       "            <div style=\"float: left; border: 1px solid black; width:500px\">\n",
       "              <div id=\"6185a7d0-9f61-4881-9e8a-74e30637fed7\" style=\"background-color:blue; width:0%\">&nbsp;</div>\n",
       "            </div>\n",
       "            <label id=\"1b355b78-8618-4dff-b391-92eeb5938329\" style=\"padding-left: 10px;\" text = \"\"/>\n",
       "            "
      ],
      "text/plain": [
       "<IPython.core.display.HTML object>"
      ]
     },
     "metadata": {},
     "output_type": "display_data"
    },
    {
     "name": "stderr",
     "output_type": "stream",
     "text": [
      "WARNING:root:SKIPPED nct distribution (taking more than 15 seconds)\n"
     ]
    },
    {
     "name": "stdout",
     "output_type": "stream",
     "text": [
      "Wall time: 15.1 s\n"
     ]
    },
    {
     "data": {
      "text/html": [
       "<div>\n",
       "<style scoped>\n",
       "    .dataframe tbody tr th:only-of-type {\n",
       "        vertical-align: middle;\n",
       "    }\n",
       "\n",
       "    .dataframe tbody tr th {\n",
       "        vertical-align: top;\n",
       "    }\n",
       "\n",
       "    .dataframe thead th {\n",
       "        text-align: right;\n",
       "    }\n",
       "</style>\n",
       "<table border=\"1\" class=\"dataframe\">\n",
       "  <thead>\n",
       "    <tr style=\"text-align: right;\">\n",
       "      <th></th>\n",
       "      <th>sumsquare_error</th>\n",
       "      <th>aic</th>\n",
       "      <th>bic</th>\n",
       "      <th>kl_div</th>\n",
       "    </tr>\n",
       "  </thead>\n",
       "  <tbody>\n",
       "    <tr>\n",
       "      <td>gengamma</td>\n",
       "      <td>0.002091</td>\n",
       "      <td>264.084851</td>\n",
       "      <td>-555926.760064</td>\n",
       "      <td>0.005053</td>\n",
       "    </tr>\n",
       "    <tr>\n",
       "      <td>beta</td>\n",
       "      <td>0.002165</td>\n",
       "      <td>258.574263</td>\n",
       "      <td>-554761.533123</td>\n",
       "      <td>0.005216</td>\n",
       "    </tr>\n",
       "    <tr>\n",
       "      <td>chi</td>\n",
       "      <td>0.002248</td>\n",
       "      <td>261.796723</td>\n",
       "      <td>-553517.577607</td>\n",
       "      <td>0.005516</td>\n",
       "    </tr>\n",
       "    <tr>\n",
       "      <td>nakagami</td>\n",
       "      <td>0.002248</td>\n",
       "      <td>261.797344</td>\n",
       "      <td>-553515.886793</td>\n",
       "      <td>0.005516</td>\n",
       "    </tr>\n",
       "    <tr>\n",
       "      <td>chi2</td>\n",
       "      <td>0.002466</td>\n",
       "      <td>251.369965</td>\n",
       "      <td>-550416.054157</td>\n",
       "      <td>0.006126</td>\n",
       "    </tr>\n",
       "  </tbody>\n",
       "</table>\n",
       "</div>"
      ],
      "text/plain": [
       "          sumsquare_error         aic            bic    kl_div\n",
       "gengamma         0.002091  264.084851 -555926.760064  0.005053\n",
       "beta             0.002165  258.574263 -554761.533123  0.005216\n",
       "chi              0.002248  261.796723 -553517.577607  0.005516\n",
       "nakagami         0.002248  261.797344 -553515.886793  0.005516\n",
       "chi2             0.002466  251.369965 -550416.054157  0.006126"
      ]
     },
     "execution_count": 84,
     "metadata": {},
     "output_type": "execute_result"
    },
    {
     "data": {
      "image/png": "[encoded data removed]",
      "text/plain": [
       "<Figure size 432x288 with 1 Axes>"
      ]
     },
     "metadata": {
      "needs_background": "light"
     },
     "output_type": "display_data"
    }
   ],
   "source": [
    "%%time\n",
    "fitter(datax, dist_list, 15, 30)\n",
    "f.summary()"
   ]
  },
  {
   "cell_type": "markdown",
   "metadata": {},
   "source": [
    "#### <font color='midnightblue'> Conclusión Para Distribuciones con la Función y Método Fitter:\n",
    "> Gracias a este metodo se puede comprobar el error en las distintas distribuciones de un metodo diferente, a diferencia de los otros metodos que también nos permiten ver esto de forma visual. En el caso del nodo para las \"Views\" apreciamos que las distribuciones $Gengamma, Beta$ y $Chi$ son las que mejor se ajustan y se mantienen constantes en ambos metodos a diferencias de distribuciones como la $Norm$ la cual con este metodo no tuvo lugar.  "
   ]
  },
  {
   "cell_type": "markdown",
   "metadata": {},
   "source": [
    "## Fin 3"
   ]
  },
  {
   "cell_type": "markdown",
   "metadata": {},
   "source": [
    "## 5"
   ]
  },
  {
   "cell_type": "markdown",
   "metadata": {},
   "source": [
    "## Ajuste Kolmogorov-Smirnov"
   ]
  },
  {
   "cell_type": "markdown",
   "metadata": {},
   "source": [
    "#### <font color='midnightblue'>Se fija un nivel de confianza del 99%. Por lo que el p-value siendo menor a 0.01 este ajuste no será apropiado."
   ]
  },
  {
   "cell_type": "markdown",
   "metadata": {},
   "source": [
    "#### <font color='midnightblue'> Hipótesis Nulas $H_0$:"
   ]
  },
  {
   "cell_type": "code",
   "execution_count": 85,
   "metadata": {},
   "outputs": [
    {
     "data": {
      "text/plain": [
       "['$H_0$ = La PDF es chi',\n",
       " '$H_0$ = La PDF es nakagami',\n",
       " '$H_0$ = La PDF es gengamma',\n",
       " '$H_0$ = La PDF es norm',\n",
       " '$H_0$ = La PDF es beta']"
      ]
     },
     "execution_count": 85,
     "metadata": {},
     "output_type": "execute_result"
    }
   ],
   "source": [
    "h0 = ['$H_0$ = La PDF es {}'.format(dist) for dist in best]\n",
    "h0"
   ]
  },
  {
   "cell_type": "markdown",
   "metadata": {},
   "source": [
    "#### <font color='midnightblue'> Hipótesis Alternas $H_a$:"
   ]
  },
  {
   "cell_type": "code",
   "execution_count": 86,
   "metadata": {},
   "outputs": [
    {
     "data": {
      "text/plain": [
       "['$H_a$ = La PDF no es chi',\n",
       " '$H_a$ = La PDF no es nakagami',\n",
       " '$H_a$ = La PDF no es gengamma',\n",
       " '$H_a$ = La PDF no es norm',\n",
       " '$H_a$ = La PDF no es beta']"
      ]
     },
     "execution_count": 86,
     "metadata": {},
     "output_type": "execute_result"
    }
   ],
   "source": [
    "ha = ['$H_a$ = La PDF no es {}'.format(dist) for dist in best]\n",
    "ha"
   ]
  },
  {
   "cell_type": "code",
   "execution_count": 87,
   "metadata": {},
   "outputs": [
    {
     "name": "stdout",
     "output_type": "stream",
     "text": [
      "No se ajusta a una normal\n"
     ]
    },
    {
     "data": {
      "text/plain": [
       "1.4773017537268133e-31"
      ]
     },
     "execution_count": 87,
     "metadata": {},
     "output_type": "execute_result"
    }
   ],
   "source": [
    "media, desviacion = st.norm.fit(datax)\n",
    "d, pvalor = st.kstest(datax,\"norm\",args=(media,desviacion))\n",
    "\n",
    "# queremos confianza al 99%\n",
    "if pvalor < 0.01:\n",
    "    print(\"No se ajusta a una normal\")\n",
    "else:\n",
    "    print(\"Se puede ajustar a una normal\")\n",
    "pvalor\n",
    "#El P value es demasiado pequeño por lo cual este ajuste puede no ser adecuado."
   ]
  },
  {
   "cell_type": "code",
   "execution_count": 88,
   "metadata": {},
   "outputs": [],
   "source": [
    "def kol_smir_test(dist):   \n",
    "    param = getattr(st, dist).fit(x)\n",
    "    ks = st.kstest(x, dist, args=param)\n",
    "    return dist, ks[0], ks[1]"
   ]
  },
  {
   "cell_type": "code",
   "execution_count": 89,
   "metadata": {},
   "outputs": [
    {
     "data": {
      "text/plain": [
       "[('beta', 0.034560280144775024, 0.9999999999999852),\n",
       " ('norm', 0.07366544899615263, 0.996822140221474),\n",
       " ('nakagami', 0.09818965099488264, 0.9345310467982364),\n",
       " ('chi', 0.09819052126586159, 0.9345266769087579),\n",
       " ('gengamma', 0.10002159024583634, 0.9249687780401323)]"
      ]
     },
     "execution_count": 89,
     "metadata": {},
     "output_type": "execute_result"
    }
   ],
   "source": [
    "top_kol_smir = [kol_smir_test(dist) for dist in best]\n",
    "top_kol_smir.sort(key=lambda x:float(x[2]), reverse=True)\n",
    "top_kol_smir"
   ]
  },
  {
   "cell_type": "markdown",
   "metadata": {},
   "source": [
    "### <font color='midnightblue'> De acuerdo con el P-value siendo mayor al nivel de significancia se pueden aceptar las tres Hipótesis Nulas $H_0$ confirmando que la mejor distribución del nodo Views es en $beta$:"
   ]
  },
  {
   "cell_type": "markdown",
   "metadata": {},
   "source": [
    "## Fin 5"
   ]
  },
  {
   "cell_type": "markdown",
   "metadata": {},
   "source": [
    "## Metodos reducción de varianza"
   ]
  },
  {
   "cell_type": "markdown",
   "metadata": {},
   "source": [
    "### Muestreo Estratificado"
   ]
  },
  {
   "cell_type": "code",
   "execution_count": 90,
   "metadata": {},
   "outputs": [],
   "source": [
    "N = np.logspace(1,7,7,dtype=int)\n",
    "B=N\n",
    "def mues_est (B):\n",
    "    u2= np.random.rand(B)\n",
    "    i= np.arange(0,B)\n",
    "    v=(u2+i)/B\n",
    "    return v\n",
    "ui_2= list(map(lambda x:mues_est(x),N))\n",
    "f= [f_multi_kde(datax) for i in ui_2]\n",
    "\n",
    "estrat=[f[i].mean() for i in range(len(f))]"
   ]
  },
  {
   "cell_type": "code",
   "execution_count": 91,
   "metadata": {},
   "outputs": [
    {
     "data": {
      "text/plain": [
       "array([0.18834488, 0.35963644, 0.47711699, 0.6408072 , 0.81805207])"
      ]
     },
     "execution_count": 91,
     "metadata": {},
     "output_type": "execute_result"
    }
   ],
   "source": [
    "mues_est(5)"
   ]
  },
  {
   "cell_type": "code",
   "execution_count": 92,
   "metadata": {},
   "outputs": [
    {
     "data": {
      "text/plain": [
       "array([0.11991806, 0.20646387, 0.18926605, ..., 0.19986848, 0.21225121,\n",
       "       0.20418096])"
      ]
     },
     "execution_count": 92,
     "metadata": {},
     "output_type": "execute_result"
    }
   ],
   "source": [
    "f_multi_kde(datax)"
   ]
  },
  {
   "cell_type": "markdown",
   "metadata": {},
   "source": [
    "## 7"
   ]
  },
  {
   "cell_type": "markdown",
   "metadata": {},
   "source": [
    "## Metodo Aceptación Rechazo"
   ]
  },
  {
   "cell_type": "code",
   "execution_count": 93,
   "metadata": {},
   "outputs": [],
   "source": [
    "# Función de aceptación y rechazo usando compresión de listas\n",
    "def Acep_rechazo(R2:'Variables distruidas U~U(0,1)',\n",
    "                 R1:'Variables distribuidas como g(x)',\n",
    "                 f:'función objetivo a generar',\n",
    "                 t:'función que mayora a f'):\n",
    "#     R1 = np.random.rand(N)\n",
    "    f_x = f(R1)\n",
    "    t_x = t(R1)\n",
    "    condition = R2*t_x <=f_x\n",
    "    [plt.plot(R1[i],R2[i]*t_x[i],'ob') if condition[i] else plt.plot(R1[i],R2[i]*t_x[i],'o') \\\n",
    "         for i in range(len(R1))]            \n",
    "    plt.show()\n",
    "    \n",
    "    x=[R1[i] for i in range(len(R1)) if condition[i]]"
   ]
  },
  {
   "cell_type": "code",
   "execution_count": 94,
   "metadata": {},
   "outputs": [
    {
     "name": "stdout",
     "output_type": "stream",
     "text": [
      "El máximo de f es: 0.22899403808542435\n"
     ]
    },
    {
     "data": {
      "image/png": "[encoded data removed]",
      "text/plain": [
       "<Figure size 432x288 with 1 Axes>"
      ]
     },
     "metadata": {
      "needs_background": "light"
     },
     "output_type": "display_data"
    }
   ],
   "source": [
    "# Ilustración del método de aceptación y rechazo cuando se toma t(x) constante\n",
    "N=100\n",
    "# Función objetivo \n",
    "f = f_multi_kde\n",
    "# Máximo de la función f\n",
    "max_f = f(optimize.fmin(lambda x:-f(x), 0, disp=False))\n",
    "# Función t -> Función constante\n",
    "t = lambda x: max_f * np.ones([len(x)])\n",
    "\n",
    "# Rango donde se graficará las funciones\n",
    "x = np.arange(6,20, 0.1)\n",
    "print('El máximo de f es:',max_f)\n",
    "\n",
    "# Gráficas de las funciones\n",
    "plt.plot(x,f(x),label='f(x)')\n",
    "plt.plot(x,t(x),label='t(x)')\n",
    "plt.legend()\n",
    "\n",
    "# Validación del método\n",
    "N = 300 # número de puntos a simular\n",
    "# Como estoy tomando t(x) constante solo es necesario generar valores aleatorios U~(0,1)\n",
    "R2 = np.random.rand(N)\n",
    "R1 = np.random.uniform(6,20, size=N)\n",
    "Acep_rechazo(R2,R1, f,t)\n",
    "# Prueba de función creada\n",
    "#max_f=\n",
    "#plt.hist(x_r,bins=50 density=True)"
   ]
  },
  {
   "cell_type": "markdown",
   "metadata": {},
   "source": [
    "## Fin 7"
   ]
  },
  {
   "cell_type": "code",
   "execution_count": null,
   "metadata": {},
   "outputs": [],
   "source": []
  }
 ],
 "metadata": {
  "kernelspec": {
   "display_name": "Python 3",
   "language": "python",
   "name": "python3"
  },
  "language_info": {
   "codemirror_mode": {
    "name": "ipython",
    "version": 3
   },
   "file_extension": ".py",
   "mimetype": "text/x-python",
   "name": "python",
   "nbconvert_exporter": "python",
   "pygments_lexer": "ipython3",
   "version": "3.7.4"
  }
 },
 "nbformat": 4,
 "nbformat_minor": 4
}
