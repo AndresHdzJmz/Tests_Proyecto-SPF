{
 "cells": [
  {
   "cell_type": "markdown",
   "metadata": {},
   "source": [
    "# 1.3 Definición del problema\n",
    "\n",
    "En este proyecto queremos plantear la idea de una compañía quien a través de una base de datos le es posible el obtener distribuciones de probabilidad y simular situaciones en las cuales se pretende evaluar el recibimiento de un video. Se utilizarán datos de videos de Youtube basándonos en cuatro parámetros como likes, dislikes, número de vistas y cantidad de comentarios. Con estos parámetros podemos obtener la información necesaria para evaluar las diferentes categorías de videos en situaciones y su recibimiento en la plataforma a través de la simulación Monte Carlo. Estos parámetros serán los nodos para trabajar específicamente y a través de estos se generarán datos que nos permiten cumplir con el objetivo central, generar un modelo que nos facilite el encontrar la probabilidad de que un video sea bien recibido en la plataforma. \n",
    "\n",
    "Estos nodos o escenarios fueron elegidos porque nos permiten encontrar la correlación entre sí mismas y se además se pueden simular ante el supuesto de un video ingresado en la red y su desempeño en la plataforma. La categoría de video es un filtro fundamental para poder separar los resultados de acuerdo con lo que la gente quiere ver basándonos en su popularidad actual. La ratio entre likes y dislikes nos darán una muy buena idea de como desempeña el video una vez en la plataforma. El número de vistas y sus respectivos comentarios afirmarán si este video está volviéndose popular. \n"
   ]
  },
  {
   "cell_type": "code",
   "execution_count": null,
   "metadata": {},
   "outputs": [],
   "source": []
  }
 ],
 "metadata": {
  "kernelspec": {
   "display_name": "Python 3",
   "language": "python",
   "name": "python3"
  },
  "language_info": {
   "codemirror_mode": {
    "name": "ipython",
    "version": 3
   },
   "file_extension": ".py",
   "mimetype": "text/x-python",
   "name": "python",
   "nbconvert_exporter": "python",
   "pygments_lexer": "ipython3",
   "version": "3.7.4"
  }
 },
 "nbformat": 4,
 "nbformat_minor": 2
}
